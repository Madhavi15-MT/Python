{
  "nbformat": 4,
  "nbformat_minor": 0,
  "metadata": {
    "colab": {
      "provenance": [],
      "authorship_tag": "ABX9TyMKd7jtrJBxSMF9Vv6CZ92d",
      "include_colab_link": true
    },
    "kernelspec": {
      "name": "python3",
      "display_name": "Python 3"
    },
    "language_info": {
      "name": "python"
    }
  },
  "cells": [
    {
      "cell_type": "markdown",
      "metadata": {
        "id": "view-in-github",
        "colab_type": "text"
      },
      "source": [
        "<a href=\"https://colab.research.google.com/github/Madhavi15-MT/Python/blob/main/Missing_NumberUntitled4.ipynb\" target=\"_parent\"><img src=\"https://colab.research.google.com/assets/colab-badge.svg\" alt=\"Open In Colab\"/></a>"
      ]
    },
    {
      "cell_type": "markdown",
      "source": [
        "#Given a list of numbers from 1 to N, with one number missing, write a program to find the missing number."
      ],
      "metadata": {
        "id": "jaHTqAQE_Orx"
      }
    },
    {
      "cell_type": "code",
      "source": [
        "def find_missing_number(nums):\n",
        "  n = len(nums) + 1\n",
        "  total_sum = n * (n + 1) // 2\n",
        "  actual_sum = sum(nums)\n",
        "  missing_number = total_sum - actual_sum\n",
        "  return missing_number\n",
        "\n",
        "my_list = [1, 2, 4, 5, 6]\n",
        "print(find_missing_number(my_list))\n",
        "\n"
      ],
      "metadata": {
        "colab": {
          "base_uri": "https://localhost:8080/"
        },
        "id": "A1sZepNU_UAj",
        "outputId": "bd466abc-9b90-43d0-a6e0-e53f49d6ceb1"
      },
      "execution_count": 2,
      "outputs": [
        {
          "output_type": "stream",
          "name": "stdout",
          "text": [
            "3\n"
          ]
        }
      ]
    }
  ]
}