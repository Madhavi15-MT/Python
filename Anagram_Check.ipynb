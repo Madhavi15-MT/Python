{
  "nbformat": 4,
  "nbformat_minor": 0,
  "metadata": {
    "colab": {
      "provenance": [],
      "authorship_tag": "ABX9TyOz7O6etnRSuSqWBkRJWLbN",
      "include_colab_link": true
    },
    "kernelspec": {
      "name": "python3",
      "display_name": "Python 3"
    },
    "language_info": {
      "name": "python"
    }
  },
  "cells": [
    {
      "cell_type": "markdown",
      "metadata": {
        "id": "view-in-github",
        "colab_type": "text"
      },
      "source": [
        "<a href=\"https://colab.research.google.com/github/Madhavi15-MT/Python/blob/main/Anagram_Check.ipynb\" target=\"_parent\"><img src=\"https://colab.research.google.com/assets/colab-badge.svg\" alt=\"Open In Colab\"/></a>"
      ]
    },
    {
      "cell_type": "markdown",
      "source": [
        "Write a function to check if two strings are anagrams of each other."
      ],
      "metadata": {
        "id": "I2xg1Ux0QOY1"
      }
    },
    {
      "cell_type": "code",
      "execution_count": 3,
      "metadata": {
        "colab": {
          "base_uri": "https://localhost:8080/"
        },
        "id": "QzYvfb2qQI0J",
        "outputId": "df666a37-0290-44b9-fd70-13389b34c13b"
      },
      "outputs": [
        {
          "output_type": "stream",
          "name": "stdout",
          "text": [
            "Anagrams\n"
          ]
        }
      ],
      "source": [
        "str1 = \"listen\"\n",
        "str2 = \"SILENT\"\n",
        "\n",
        "if sorted(str1.lower()) == sorted(str2.lower()):\n",
        "    print(\"Anagrams\")\n",
        "else:\n",
        "    print(\"Not Anagrams\")"
      ]
    },
    {
      "cell_type": "code",
      "source": [
        "from typing_extensions import Counter\n",
        "str1 = \"listen\"\n",
        "str2 = \"SILENT\"\n",
        "\n",
        "if Counter(str1.lower()) == Counter(str2.lower()):\n",
        "    print(\"Anagrams\")\n",
        "else:\n",
        "    print(\"Not Anagrams\")"
      ],
      "metadata": {
        "colab": {
          "base_uri": "https://localhost:8080/"
        },
        "id": "rFj-crGLex9A",
        "outputId": "ad666d2d-0198-4a01-c41e-03b4ef52513a"
      },
      "execution_count": 5,
      "outputs": [
        {
          "output_type": "stream",
          "name": "stdout",
          "text": [
            "Anagrams\n"
          ]
        }
      ]
    },
    {
      "cell_type": "code",
      "source": [
        "from typing_extensions import Counter\n",
        "\n",
        "def anagrams_check(str1, str2):\n",
        "  return Counter(str1.lower()) == Counter(str2.lower())\n",
        "\n",
        "anagrams_check(\"Listen\", \"Silent\")\n",
        "anagrams_check(\"Hello\", \"World\")\n",
        "\n"
      ],
      "metadata": {
        "colab": {
          "base_uri": "https://localhost:8080/"
        },
        "id": "D9eyberAfcLG",
        "outputId": "9d3f6d71-4b51-4535-ce78-257b8c81b09c"
      },
      "execution_count": 10,
      "outputs": [
        {
          "output_type": "execute_result",
          "data": {
            "text/plain": [
              "False"
            ]
          },
          "metadata": {},
          "execution_count": 10
        }
      ]
    }
  ]
}