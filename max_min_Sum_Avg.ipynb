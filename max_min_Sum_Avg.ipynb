{
  "nbformat": 4,
  "nbformat_minor": 0,
  "metadata": {
    "colab": {
      "provenance": [],
      "authorship_tag": "ABX9TyONV5Lsmb+gokMf4OIzN3u8",
      "include_colab_link": true
    },
    "kernelspec": {
      "name": "python3",
      "display_name": "Python 3"
    },
    "language_info": {
      "name": "python"
    }
  },
  "cells": [
    {
      "cell_type": "markdown",
      "metadata": {
        "id": "view-in-github",
        "colab_type": "text"
      },
      "source": [
        "<a href=\"https://colab.research.google.com/github/Madhavi15-MT/Python/blob/main/max_min_Sum_Avg.ipynb\" target=\"_parent\"><img src=\"https://colab.research.google.com/assets/colab-badge.svg\" alt=\"Open In Colab\"/></a>"
      ]
    },
    {
      "cell_type": "code",
      "execution_count": 5,
      "metadata": {
        "colab": {
          "base_uri": "https://localhost:8080/"
        },
        "id": "LCr9aJ4jgiqB",
        "outputId": "a7612e14-8786-4242-c338-6eb705654fe1"
      },
      "outputs": [
        {
          "output_type": "stream",
          "name": "stdout",
          "text": [
            "Enter numbers saperated by space:1 2 3\n",
            "Largest: 3, Smallest: 1, Sum: 6, Average: 2.0 \n"
          ]
        }
      ],
      "source": [
        "num = list(map(int, input(\"Enter numbers saperated by space:\").split()))\n",
        "print(f\"Largest: {max(num)}, Smallest: {min(num)}, Sum: {sum(num)}, Average: {sum(num)/len(num)} \")"
      ]
    },
    {
      "cell_type": "code",
      "source": [
        "def find_max(numbers):\n",
        "    if not numbers:\n",
        "        return None\n",
        "    max_num = numbers[0]\n",
        "    for number in numbers:\n",
        "        if number > max_num:\n",
        "            max_num = number\n",
        "    return max_num\n",
        "\n",
        "def find_min(numbers):\n",
        "    if not numbers:\n",
        "        return None\n",
        "    min_num = numbers[0]\n",
        "    for number in numbers:\n",
        "        if number < min_num:\n",
        "            min_num = number\n",
        "    return min_num\n",
        "\n",
        "def calculate_sum(numbers):\n",
        "    total = 0\n",
        "    for number in numbers:\n",
        "        total += number\n",
        "    return total\n",
        "\n",
        "def calculate_len(numbers):\n",
        "    count = 0\n",
        "    for _ in numbers:\n",
        "        count += 1\n",
        "    return count\n",
        "\n",
        "num = list(map(int, input(\"Enter numbers seperated by space:\").split()))\n",
        "\n",
        "largest = find_max(num)\n",
        "smallest = find_min(num)\n",
        "total_sum = calculate_sum(num)\n",
        "length = calculate_len(num)\n",
        "average = total_sum / length if length > 0 else 0\n",
        "\n",
        "print(f\"Largest: {max(num)}, Smallest: {min(num)}, Sum: {sum(num)}, Average: {sum(num)/len(num)} \")"
      ],
      "metadata": {
        "colab": {
          "base_uri": "https://localhost:8080/"
        },
        "id": "axugxOAqh-lu",
        "outputId": "450f08a4-1dca-4f6c-e81c-feaa8738e67c"
      },
      "execution_count": 13,
      "outputs": [
        {
          "output_type": "stream",
          "name": "stdout",
          "text": [
            "Enter numbers seperated by space:1 2 3\n",
            "Largest: 3, Smallest: 1, Sum: 6, Average: 2.0\n"
          ]
        }
      ]
    },
    {
      "cell_type": "code",
      "source": [],
      "metadata": {
        "id": "rQyEMyzIiDbB"
      },
      "execution_count": null,
      "outputs": []
    }
  ]
}