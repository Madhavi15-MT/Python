{
  "nbformat": 4,
  "nbformat_minor": 0,
  "metadata": {
    "colab": {
      "provenance": [],
      "authorship_tag": "ABX9TyPZJy8vZ6JOh9SwxLcYNklZ",
      "include_colab_link": true
    },
    "kernelspec": {
      "name": "python3",
      "display_name": "Python 3"
    },
    "language_info": {
      "name": "python"
    }
  },
  "cells": [
    {
      "cell_type": "markdown",
      "metadata": {
        "id": "view-in-github",
        "colab_type": "text"
      },
      "source": [
        "<a href=\"https://colab.research.google.com/github/Madhavi15-MT/Python/blob/main/max_min_Sum_Avg.ipynb\" target=\"_parent\"><img src=\"https://colab.research.google.com/assets/colab-badge.svg\" alt=\"Open In Colab\"/></a>"
      ]
    },
    {
      "cell_type": "code",
      "source": [
        "num = list(map(int, input(\"Enter numbers saperated by space:\").split()))\n",
        "\n",
        "print(f\"Largest: {max(num)}, Smallest: {min(num)}, Sum: {sum(num)}, Average: {sum(num)/len(num)} \")"
      ],
      "metadata": {
        "colab": {
          "base_uri": "https://localhost:8080/"
        },
        "id": "axugxOAqh-lu",
        "outputId": "d86a423b-47d3-4d90-878e-3f999c0785ec"
      },
      "execution_count": 9,
      "outputs": [
        {
          "output_type": "stream",
          "name": "stdout",
          "text": [
            "Enter numbers saperated by space:10 20 30\n",
            "Largest: 30, Smallest: 10, Sum: 60, Average: 20.0 \n"
          ]
        }
      ]
    }
  ]
}