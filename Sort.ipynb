{
  "nbformat": 4,
  "nbformat_minor": 0,
  "metadata": {
    "colab": {
      "provenance": [],
      "authorship_tag": "ABX9TyPZJshOp5+iYYS4/6gkH1jz",
      "include_colab_link": true
    },
    "kernelspec": {
      "name": "python3",
      "display_name": "Python 3"
    },
    "language_info": {
      "name": "python"
    }
  },
  "cells": [
    {
      "cell_type": "markdown",
      "metadata": {
        "id": "view-in-github",
        "colab_type": "text"
      },
      "source": [
        "<a href=\"https://colab.research.google.com/github/Madhavi15-MT/Python/blob/main/Sort.ipynb\" target=\"_parent\"><img src=\"https://colab.research.google.com/assets/colab-badge.svg\" alt=\"Open In Colab\"/></a>"
      ]
    },
    {
      "cell_type": "markdown",
      "source": [
        "Write Python code to sort a numerical dataset?"
      ],
      "metadata": {
        "id": "jDPZ7ya82Pnx"
      }
    },
    {
      "cell_type": "code",
      "execution_count": 2,
      "metadata": {
        "colab": {
          "base_uri": "https://localhost:8080/"
        },
        "id": "PEcP-g-r2O_m",
        "outputId": "389dce15-648e-4363-ce7d-6ff3507929f2"
      },
      "outputs": [
        {
          "output_type": "stream",
          "name": "stdout",
          "text": [
            "[1, 2, 3, 5, 6]\n"
          ]
        }
      ],
      "source": [
        "l1 = [1,5,3,2,6]\n",
        "l1.sort()\n",
        "print(l1)"
      ]
    },
    {
      "cell_type": "markdown",
      "source": [
        "String to Numerical"
      ],
      "metadata": {
        "id": "dT3pXs8D23j5"
      }
    },
    {
      "cell_type": "code",
      "source": [
        "l2 = [\"2\",\"9\",\"3\",\"6\",\"4\"]\n",
        "l2 = [int(i) for i in l2]\n",
        "l2.sort()\n",
        "print(l2)"
      ],
      "metadata": {
        "colab": {
          "base_uri": "https://localhost:8080/"
        },
        "id": "0RieNwgD2pMe",
        "outputId": "950e41ed-02c0-4552-e326-3415acada5b9"
      },
      "execution_count": 3,
      "outputs": [
        {
          "output_type": "stream",
          "name": "stdout",
          "text": [
            "[2, 3, 4, 6, 9]\n"
          ]
        }
      ]
    }
  ]
}