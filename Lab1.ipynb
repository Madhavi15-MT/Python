{
  "nbformat": 4,
  "nbformat_minor": 0,
  "metadata": {
    "colab": {
      "provenance": [],
      "authorship_tag": "ABX9TyOYqzWIkUaW0OdGY5Nene5+",
      "include_colab_link": true
    },
    "kernelspec": {
      "name": "python3",
      "display_name": "Python 3"
    },
    "language_info": {
      "name": "python"
    }
  },
  "cells": [
    {
      "cell_type": "markdown",
      "metadata": {
        "id": "view-in-github",
        "colab_type": "text"
      },
      "source": [
        "<a href=\"https://colab.research.google.com/github/Madhavi15-MT/Python/blob/main/Lab1.ipynb\" target=\"_parent\"><img src=\"https://colab.research.google.com/assets/colab-badge.svg\" alt=\"Open In Colab\"/></a>"
      ]
    },
    {
      "cell_type": "code",
      "execution_count": 11,
      "metadata": {
        "colab": {
          "base_uri": "https://localhost:8080/"
        },
        "id": "cN8yswNIDxNO",
        "outputId": "d29b0b06-5c24-4920-8249-b4d1d10745db"
      },
      "outputs": [
        {
          "output_type": "stream",
          "name": "stdout",
          "text": [
            "{1: 2, 2: 3, 3: 1, 4: 1, 5: 1}\n",
            "The most repetitive number is 2 with a count of 3.\n"
          ]
        }
      ],
      "source": [
        "numbers = [1,1,2,3,2,2,4,5]\n",
        "count_dict = {}\n",
        "\n",
        "for num in numbers:\n",
        "  if num in count_dict:\n",
        "    count_dict[num] += 1\n",
        "  else:\n",
        "    count_dict[num] = 1\n",
        "print(count_dict)\n",
        "\n",
        "most_repetitive = None\n",
        "max_count = 0\n",
        "\n",
        "for num, count in count_dict.items():\n",
        "  if count > max_count:\n",
        "    most_repetitive = num\n",
        "    max_count = count\n",
        "\n",
        "print(f\"The most repetitive number is {most_repetitive} with a count of {max_count}.\")"
      ]
    }
  ]
}