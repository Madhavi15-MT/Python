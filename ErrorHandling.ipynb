{
  "nbformat": 4,
  "nbformat_minor": 0,
  "metadata": {
    "colab": {
      "provenance": [],
      "authorship_tag": "ABX9TyMUbgRsuTiCmUFmkerxmEdh",
      "include_colab_link": true
    },
    "kernelspec": {
      "name": "python3",
      "display_name": "Python 3"
    },
    "language_info": {
      "name": "python"
    }
  },
  "cells": [
    {
      "cell_type": "markdown",
      "metadata": {
        "id": "view-in-github",
        "colab_type": "text"
      },
      "source": [
        "<a href=\"https://colab.research.google.com/github/Madhavi15-MT/Python/blob/main/ErrorHandling.ipynb\" target=\"_parent\"><img src=\"https://colab.research.google.com/assets/colab-badge.svg\" alt=\"Open In Colab\"/></a>"
      ]
    },
    {
      "cell_type": "code",
      "execution_count": null,
      "metadata": {
        "id": "pPHcVonfsXB6"
      },
      "outputs": [],
      "source": []
    },
    {
      "cell_type": "markdown",
      "source": [
        "1. **File Handling**"
      ],
      "metadata": {
        "id": "MjXl28iPsg25"
      }
    },
    {
      "cell_type": "code",
      "source": [
        "#- Define a custom exception called NegativeNumberError. Write a function that raises this exception if a negative number is passed.\n"
      ],
      "metadata": {
        "id": "7z6gU8iFsluc"
      },
      "execution_count": null,
      "outputs": []
    },
    {
      "cell_type": "code",
      "source": [
        "class NegativeNumberError(Exception):\n",
        "  \"\"\"Custom exception raised for negative numbers.\"\"\"\n",
        "  pass\n",
        "\n",
        "def process_number(number):\n",
        "  if number < 0:\n",
        "    raise NegativeNumberError(\"Negative numbers are not allowed\")\n",
        "  else:\n",
        "    print(f\"The entered number is: {number}\")\n",
        "\n",
        "try:\n",
        "  num = int(input(\"Enter a number:\"))\n",
        "  process_number(num)\n",
        "except NegativeNumberError as e:\n",
        "  print(f\"Error: {e}\")\n",
        "except ValueError:\n",
        "  print(\"Error: Invalid input. Please enter an integer.\")\n",
        "except Exception as e:\n",
        "  print(f\"An unexpected error occurred: {e}\")"
      ],
      "metadata": {
        "colab": {
          "base_uri": "https://localhost:8080/"
        },
        "id": "gGWpgzufu1vh",
        "outputId": "4d6a912b-f7d8-4849-df67-e9debb6b7c70"
      },
      "execution_count": 7,
      "outputs": [
        {
          "output_type": "stream",
          "name": "stdout",
          "text": [
            "Enter a number:-1\n",
            "Error: Negative numbers are not allowed\n"
          ]
        }
      ]
    }
  ]
}