{
  "nbformat": 4,
  "nbformat_minor": 0,
  "metadata": {
    "colab": {
      "provenance": [],
      "authorship_tag": "ABX9TyMGaH1T9iZV7GegLHDBajgR",
      "include_colab_link": true
    },
    "kernelspec": {
      "name": "python3",
      "display_name": "Python 3"
    },
    "language_info": {
      "name": "python"
    }
  },
  "cells": [
    {
      "cell_type": "markdown",
      "metadata": {
        "id": "view-in-github",
        "colab_type": "text"
      },
      "source": [
        "<a href=\"https://colab.research.google.com/github/Madhavi15-MT/Python/blob/main/List_Comprehenshion.ipynb\" target=\"_parent\"><img src=\"https://colab.research.google.com/assets/colab-badge.svg\" alt=\"Open In Colab\"/></a>"
      ]
    },
    {
      "cell_type": "markdown",
      "source": [
        "List comprehension offers a concise way to create lists. It consists of a single expression followed by a for clause and zero or more if clauses."
      ],
      "metadata": {
        "id": "5NrjQ7xfHglN"
      }
    },
    {
      "cell_type": "markdown",
      "source": [
        "#List Comprehension - write an example to create a new list containing squares of even numbers from a given list."
      ],
      "metadata": {
        "id": "_EGFmSXQBqDq"
      }
    },
    {
      "cell_type": "code",
      "execution_count": 5,
      "metadata": {
        "colab": {
          "base_uri": "https://localhost:8080/"
        },
        "id": "Kmd6-GaoApHS",
        "outputId": "18e36391-25d3-4bc2-97c5-35305d1bda0f"
      },
      "outputs": [
        {
          "output_type": "stream",
          "name": "stdout",
          "text": [
            "[4, 16, 36]\n"
          ]
        }
      ],
      "source": [
        "def square_evens(numbers):\n",
        "    return [num**2 for num in numbers if num % 2 == 0]\n",
        "\n",
        "# Example usage\n",
        "my_numbers = [1, 2, 3, 4, 5, 6]\n",
        "print(square_evens(my_numbers)) # Output: [4, 16, 36]"
      ]
    },
    {
      "cell_type": "markdown",
      "source": [],
      "metadata": {
        "id": "U19PXefZBpCa"
      }
    }
  ]
}