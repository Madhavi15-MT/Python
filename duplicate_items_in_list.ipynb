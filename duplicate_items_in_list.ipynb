{
  "nbformat": 4,
  "nbformat_minor": 0,
  "metadata": {
    "colab": {
      "provenance": [],
      "authorship_tag": "ABX9TyNo7SL7A2IdtlLu8rDuJIwL",
      "include_colab_link": true
    },
    "kernelspec": {
      "name": "python3",
      "display_name": "Python 3"
    },
    "language_info": {
      "name": "python"
    }
  },
  "cells": [
    {
      "cell_type": "markdown",
      "metadata": {
        "id": "view-in-github",
        "colab_type": "text"
      },
      "source": [
        "<a href=\"https://colab.research.google.com/github/Madhavi15-MT/Python/blob/main/duplicate_items_in_list.ipynb\" target=\"_parent\"><img src=\"https://colab.research.google.com/assets/colab-badge.svg\" alt=\"Open In Colab\"/></a>"
      ]
    },
    {
      "cell_type": "markdown",
      "source": [
        "Find duplicates in the list"
      ],
      "metadata": {
        "id": "nKKxo0MDNyLl"
      }
    },
    {
      "cell_type": "code",
      "source": [
        "l1 = [1,1,2,3,4,4,5,6,6]\n",
        "duplicate_l1 = []\n",
        "without_duplicate_l1 = []\n",
        "for i in l1:\n",
        "  if l1.count(i) > 1 and i not in duplicate_l1:\n",
        "    duplicate_l1.append(i)\n",
        "  else:\n",
        "    without_duplicate_l1.append(i)\n",
        "print(f\"duplicate items in the list are: {duplicate_l1}\")\n",
        "print(f\"without duplicate items in the list are:{without_duplicate_l1}\")"
      ],
      "metadata": {
        "colab": {
          "base_uri": "https://localhost:8080/"
        },
        "id": "fd1i5DOpO2Dw",
        "outputId": "03a77b00-4f5a-444c-eead-9456bb151c9e"
      },
      "execution_count": 9,
      "outputs": [
        {
          "output_type": "stream",
          "name": "stdout",
          "text": [
            "duplicate items in the list are: [1, 4, 6]\n",
            "without duplicate items in the list are:[1, 2, 3, 4, 5, 6]\n"
          ]
        }
      ]
    }
  ]
}