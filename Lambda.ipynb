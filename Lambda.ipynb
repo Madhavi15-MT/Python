{
  "nbformat": 4,
  "nbformat_minor": 0,
  "metadata": {
    "colab": {
      "provenance": [],
      "authorship_tag": "ABX9TyNXlEYqIa7VlyJ+PHmUBZhj",
      "include_colab_link": true
    },
    "kernelspec": {
      "name": "python3",
      "display_name": "Python 3"
    },
    "language_info": {
      "name": "python"
    }
  },
  "cells": [
    {
      "cell_type": "markdown",
      "metadata": {
        "id": "view-in-github",
        "colab_type": "text"
      },
      "source": [
        "<a href=\"https://colab.research.google.com/github/Madhavi15-MT/Python/blob/main/Lambda.ipynb\" target=\"_parent\"><img src=\"https://colab.research.google.com/assets/colab-badge.svg\" alt=\"Open In Colab\"/></a>"
      ]
    },
    {
      "cell_type": "markdown",
      "source": [
        "Lambda Functions: is a small, anonymous (unnamed) function that can have any number of arguments but can only have one expression.\n"
      ],
      "metadata": {
        "id": "oXr3TbD21Qui"
      }
    },
    {
      "cell_type": "markdown",
      "source": [
        "Basic Arguments"
      ],
      "metadata": {
        "id": "z-ZXePB73mzb"
      }
    },
    {
      "cell_type": "code",
      "execution_count": 1,
      "metadata": {
        "colab": {
          "base_uri": "https://localhost:8080/"
        },
        "id": "LlRTM34E1Pd5",
        "outputId": "b0e0a702-c00f-4c00-f7b9-baf9a214a5af"
      },
      "outputs": [
        {
          "output_type": "stream",
          "name": "stdout",
          "text": [
            "35\n"
          ]
        }
      ],
      "source": [
        "add_lambda = lambda x: x + 25\n",
        "print(add_lambda(10))"
      ]
    },
    {
      "cell_type": "markdown",
      "source": [
        "# 1. Simple operations"
      ],
      "metadata": {
        "id": "YMf3-7xY7kPd"
      }
    },
    {
      "cell_type": "code",
      "source": [
        "# Lambda Function Examples\n",
        "\n",
        "print(\"=== Basic Lambda Examples ===\")\n",
        "\n",
        "\n",
        "add = lambda a, b: a + b\n",
        "multiply = lambda a, b: a * b\n",
        "power = lambda x, y: x ** y\n",
        "\n",
        "print(f\"5 + 3 = {add(5, 3)}\")\n",
        "print(f\"4 * 6 = {multiply(4, 6)}\")\n",
        "print(f\"2^3 = {power(2, 3)}\")\n"
      ],
      "metadata": {
        "colab": {
          "base_uri": "https://localhost:8080/"
        },
        "id": "TPxUm5OJ5ljy",
        "outputId": "a42edf73-d4bb-485f-b841-52a34894ad3b"
      },
      "execution_count": 3,
      "outputs": [
        {
          "output_type": "stream",
          "name": "stdout",
          "text": [
            "=== Basic Lambda Examples ===\n",
            "5 + 3 = 8\n",
            "4 * 6 = 24\n",
            "2^3 = 8\n"
          ]
        }
      ]
    },
    {
      "cell_type": "markdown",
      "source": [
        "\n",
        "# Convert to squares"
      ],
      "metadata": {
        "id": "ggQ31o_87gDe"
      }
    },
    {
      "cell_type": "code",
      "source": [
        "print(\"\\n=== Lambda with map() ===\")\n",
        "\n",
        "numbers = [1, 2, 3, 4, 5]\n",
        "\n",
        "squares = list(map(lambda x: x**2, numbers))\n",
        "print(f\"Original: {numbers}\")\n",
        "print(f\"Squares: {squares}\")"
      ],
      "metadata": {
        "colab": {
          "base_uri": "https://localhost:8080/"
        },
        "id": "q9TcJf9R5vG4",
        "outputId": "fbaa057a-3271-4e05-a824-009a7b338449"
      },
      "execution_count": 4,
      "outputs": [
        {
          "output_type": "stream",
          "name": "stdout",
          "text": [
            "\n",
            "=== Lambda with map() ===\n",
            "Original: [1, 2, 3, 4, 5]\n",
            "Squares: [1, 4, 9, 16, 25]\n"
          ]
        }
      ]
    },
    {
      "cell_type": "markdown",
      "source": [
        "# Convert Celsius to Fahrenheit"
      ],
      "metadata": {
        "id": "WD55REzI7bF0"
      }
    },
    {
      "cell_type": "code",
      "source": [
        "\n",
        "celsius = [0, 20, 30, 40]\n",
        "fahrenheit = list(map(lambda c: (c * 9/5) + 32, celsius))\n",
        "print(f\"Celsius: {celsius}\")\n",
        "print(f\"Fahrenheit: {fahrenheit}\")"
      ],
      "metadata": {
        "colab": {
          "base_uri": "https://localhost:8080/"
        },
        "id": "QVK2NEwt513B",
        "outputId": "4cb9f5a9-9a0c-4d5d-b3c6-24ee9f2926ce"
      },
      "execution_count": 5,
      "outputs": [
        {
          "output_type": "stream",
          "name": "stdout",
          "text": [
            "Celsius: [0, 20, 30, 40]\n",
            "Fahrenheit: [32.0, 68.0, 86.0, 104.0]\n"
          ]
        }
      ]
    },
    {
      "cell_type": "markdown",
      "source": [
        "# Even Numbers\n"
      ],
      "metadata": {
        "id": "AF0InUk13yYG"
      }
    },
    {
      "cell_type": "code",
      "source": [
        "print(\"\\n=== Lambda with filter() ===\")\n",
        "\n",
        "numbers = [1, 2, 3, 4, 5, 6, 7, 8, 9, 10]\n",
        "\n",
        "# Filter even numbers\n",
        "evens = list(filter(lambda x: x % 2 == 0, numbers))\n",
        "print(f\"All numbers: {numbers}\")\n",
        "print(f\"Even numbers: {evens}\")"
      ],
      "metadata": {
        "colab": {
          "base_uri": "https://localhost:8080/"
        },
        "id": "Tp5mu8qY69GW",
        "outputId": "c3dfbfc4-6806-4f95-d29d-8cf6d36583da"
      },
      "execution_count": 6,
      "outputs": [
        {
          "output_type": "stream",
          "name": "stdout",
          "text": [
            "\n",
            "=== Lambda with filter() ===\n",
            "All numbers: [1, 2, 3, 4, 5, 6, 7, 8, 9, 10]\n",
            "Even numbers: [2, 4, 6, 8, 10]\n"
          ]
        }
      ]
    },
    {
      "cell_type": "markdown",
      "source": [
        "#Filters numbers greater than 5\n"
      ],
      "metadata": {
        "id": "K2DzhSHn7WC-"
      }
    },
    {
      "cell_type": "code",
      "source": [
        "numbers = [1, 2, 3, 4, 5, 6, 7, 8, 9, 10]\n",
        "# Filter numbers greater than 5\n",
        "greater_than_5 = list(filter(lambda x: x > 5, numbers))\n",
        "print(f\"Greater than 5: {greater_than_5}\")"
      ],
      "metadata": {
        "colab": {
          "base_uri": "https://localhost:8080/"
        },
        "id": "6F5hw3DU7KIK",
        "outputId": "0acae385-2af8-4919-82d4-688f3f59235a"
      },
      "execution_count": 7,
      "outputs": [
        {
          "output_type": "stream",
          "name": "stdout",
          "text": [
            "Greater than 5: [6, 7, 8, 9, 10]\n"
          ]
        }
      ]
    },
    {
      "cell_type": "markdown",
      "source": [
        "# Sort strings by length"
      ],
      "metadata": {
        "id": "aF06P-237yFB"
      }
    },
    {
      "cell_type": "code",
      "source": [
        "print(\"\\n=== Lambda with sorted() ===\")\n",
        "\n",
        "\n",
        "words = [\"python\", \"java\", \"c\", \"javascript\", \"go\"]\n",
        "sorted_by_length = sorted(words, key=lambda word: len(word))\n",
        "print(f\"Original: {words}\")\n",
        "print(f\"Sorted by length: {sorted_by_length}\")"
      ],
      "metadata": {
        "id": "gPtGaTvb7y4j"
      },
      "execution_count": null,
      "outputs": []
    },
    {
      "cell_type": "markdown",
      "source": [
        "# Sort tuples by second element"
      ],
      "metadata": {
        "id": "a5hZqcC577_k"
      }
    },
    {
      "cell_type": "code",
      "source": [
        "\n",
        "students = [(\"Alice\", 85), (\"Bob\", 92), (\"Charlie\", 78), (\"Diana\", 95)]\n",
        "sorted_by_grade = sorted(students, key=lambda student: student[1])\n",
        "print(f\"Students by grade: {sorted_by_grade}\")\n",
        "\n",
        "print(\"\\n=== Lambda with strings ===\")"
      ],
      "metadata": {
        "id": "OqKQGpgC77Cc"
      },
      "execution_count": null,
      "outputs": []
    },
    {
      "cell_type": "markdown",
      "source": [
        "# Check if string is palindrome"
      ],
      "metadata": {
        "id": "jlGOQicy8bsz"
      }
    },
    {
      "cell_type": "code",
      "source": [
        "\n",
        "is_palindrome = lambda s: s == s[::-1]\n",
        "print(f\"'racecar' is palindrome: {is_palindrome('racecar')}\")\n",
        "print(f\"'hello' is palindrome: {is_palindrome('hello')}\")"
      ],
      "metadata": {
        "colab": {
          "base_uri": "https://localhost:8080/"
        },
        "id": "NVci8IBF8Yzo",
        "outputId": "0799d255-d8af-485b-b078-a46dc8953f9d"
      },
      "execution_count": 8,
      "outputs": [
        {
          "output_type": "stream",
          "name": "stdout",
          "text": [
            "'racecar' is palindrome: True\n",
            "'hello' is palindrome: False\n"
          ]
        }
      ]
    },
    {
      "cell_type": "markdown",
      "source": [
        "# Get first character"
      ],
      "metadata": {
        "id": "5IMEwALK8oRh"
      }
    },
    {
      "cell_type": "code",
      "source": [
        "\n",
        "first_char = lambda s: s[0] if s else \"\"\n",
        "words = [\"apple\", \"banana\", \"cherry\"]\n",
        "first_letters = list(map(first_char, words))\n",
        "print(f\"Words: {words}\")\n",
        "print(f\"First letters: {first_letters}\")"
      ],
      "metadata": {
        "id": "alEVNX0t8neg"
      },
      "execution_count": null,
      "outputs": []
    },
    {
      "cell_type": "markdown",
      "source": [
        "# Max of two numbers"
      ],
      "metadata": {
        "id": "cvMe9tj-8xgF"
      }
    },
    {
      "cell_type": "code",
      "source": [
        "print(\"\\n=== Conditional Lambda ===\")\n",
        "\n",
        "\n",
        "max_of_two = lambda a, b: a if a > b else b\n",
        "print(f\"Max of 10 and 20: {max_of_two(10, 20)}\")"
      ],
      "metadata": {
        "id": "gfdPq2pr8w_p"
      },
      "execution_count": null,
      "outputs": []
    },
    {
      "cell_type": "markdown",
      "source": [
        "# Absolute value"
      ],
      "metadata": {
        "id": "J5_WyfZ283z3"
      }
    },
    {
      "cell_type": "code",
      "source": [
        "\n",
        "abs_value = lambda x: x if x >= 0 else -x\n",
        "print(f\"Absolute value of -5: {abs_value(-5)}\")"
      ],
      "metadata": {
        "id": "F_0H9Dhz83Rf"
      },
      "execution_count": null,
      "outputs": []
    },
    {
      "cell_type": "markdown",
      "source": [
        "# Grade classification"
      ],
      "metadata": {
        "id": "kKtydDN789z1"
      }
    },
    {
      "cell_type": "code",
      "source": [
        "\n",
        "grade_class = lambda score: \"A\" if score >= 90 else \"B\" if score >= 80 else \"C\" if score >= 70 else \"F\"\n",
        "print(f\"Score 85 gets grade: {grade_class(85)}\")\n",
        "print(f\"Score 95 gets grade: {grade_class(95)}\")"
      ],
      "metadata": {
        "colab": {
          "base_uri": "https://localhost:8080/"
        },
        "id": "VMIUGZwH86Yi",
        "outputId": "0a502bd7-c540-4cf5-cce1-340c62e76e8d"
      },
      "execution_count": 9,
      "outputs": [
        {
          "output_type": "stream",
          "name": "stdout",
          "text": [
            "Score 85 gets grade: B\n",
            "Score 95 gets grade: A\n"
          ]
        }
      ]
    },
    {
      "cell_type": "markdown",
      "source": [
        "# Find maximum of three numbers"
      ],
      "metadata": {
        "id": "MRrpdYCv9J1Z"
      }
    },
    {
      "cell_type": "code",
      "source": [
        "\n",
        "max_three = lambda a, b, c: max(max(a, b), c)\n",
        "print(f\"Max of 10, 25, 15: {max_three(10, 25, 15)}\")"
      ],
      "metadata": {
        "id": "-gVFBBaD9JAl"
      },
      "execution_count": null,
      "outputs": []
    },
    {
      "cell_type": "code",
      "source": [
        "\n",
        "\n",
        "print(\"\\n=== Multiple Arguments ===\")\n",
        "\n",
        "# Calculate area of rectangle\n",
        "area = lambda length, width: length * width\n",
        "print(f\"Area of 5x3 rectangle: {area(5, 3)}\")\n",
        "\n",
        "\n",
        "\n",
        "print(\"\\n=== Lambda in List Comprehension Alternative ===\")\n",
        "\n",
        "# Instead of list comprehension [x*2 for x in numbers]\n",
        "numbers = [1, 2, 3, 4, 5]\n",
        "doubled = list(map(lambda x: x * 2, numbers))\n",
        "print(f\"Original: {numbers}\")\n",
        "print(f\"Doubled: {doubled}\")\n",
        "\n",
        "# Filter and transform in one go\n",
        "numbers = [1, 2, 3, 4, 5, 6, 7, 8, 9, 10]\n",
        "even_squares = list(map(lambda x: x**2, filter(lambda x: x % 2 == 0, numbers)))\n",
        "print(f\"Even numbers squared: {even_squares}\")"
      ],
      "metadata": {
        "id": "vYOTRoL24njP"
      },
      "execution_count": null,
      "outputs": []
    }
  ]
}