{
  "nbformat": 4,
  "nbformat_minor": 0,
  "metadata": {
    "colab": {
      "provenance": [],
      "authorship_tag": "ABX9TyPfr7kupTfATaJnHpYrS+OB",
      "include_colab_link": true
    },
    "kernelspec": {
      "name": "python3",
      "display_name": "Python 3"
    },
    "language_info": {
      "name": "python"
    }
  },
  "cells": [
    {
      "cell_type": "markdown",
      "metadata": {
        "id": "view-in-github",
        "colab_type": "text"
      },
      "source": [
        "<a href=\"https://colab.research.google.com/github/Madhavi15-MT/Python/blob/main/Palindrome.ipynb\" target=\"_parent\"><img src=\"https://colab.research.google.com/assets/colab-badge.svg\" alt=\"Open In Colab\"/></a>"
      ]
    },
    {
      "cell_type": "markdown",
      "source": [
        "Write Python code to check the given sequence is a palindrome or not?"
      ],
      "metadata": {
        "id": "mW_Zq3pykLtq"
      }
    },
    {
      "cell_type": "code",
      "source": [
        "str1 = str(input(\"Enter a word to check if it is a Palindrome or not:\"))\n",
        "\n",
        "if str1 == str1[::-1]:\n",
        "  print(f\"Given word is a Palindrome: {str1}\")\n",
        "\n",
        "else:\n",
        "  print(f\"Given word is not a Palindrome: {str1}\")"
      ],
      "metadata": {
        "colab": {
          "base_uri": "https://localhost:8080/"
        },
        "id": "3EXfqVE7kQYB",
        "outputId": "512f892a-4d6f-415d-9e9c-adbb9e37a164"
      },
      "execution_count": 1,
      "outputs": [
        {
          "output_type": "stream",
          "name": "stdout",
          "text": [
            "Enter a word to check if it is a Palindrome or not:madam\n",
            "Given word is a Palindrome: madam\n"
          ]
        }
      ]
    },
    {
      "cell_type": "code",
      "execution_count": null,
      "metadata": {
        "id": "eAINabyMfxYH"
      },
      "outputs": [],
      "source": [
        "\n"
      ]
    }
  ]
}