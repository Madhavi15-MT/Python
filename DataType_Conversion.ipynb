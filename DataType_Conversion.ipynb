{
  "nbformat": 4,
  "nbformat_minor": 0,
  "metadata": {
    "colab": {
      "provenance": [],
      "authorship_tag": "ABX9TyMSxiRrL+rcxYaqxB2Tk831",
      "include_colab_link": true
    },
    "kernelspec": {
      "name": "python3",
      "display_name": "Python 3"
    },
    "language_info": {
      "name": "python"
    }
  },
  "cells": [
    {
      "cell_type": "markdown",
      "metadata": {
        "id": "view-in-github",
        "colab_type": "text"
      },
      "source": [
        "<a href=\"https://colab.research.google.com/github/Madhavi15-MT/Python/blob/main/DataType_Conversion.ipynb\" target=\"_parent\"><img src=\"https://colab.research.google.com/assets/colab-badge.svg\" alt=\"Open In Colab\"/></a>"
      ]
    },
    {
      "cell_type": "code",
      "execution_count": 4,
      "metadata": {
        "colab": {
          "base_uri": "https://localhost:8080/"
        },
        "id": "RR2ybw23w6C0",
        "outputId": "5f50bc91-6f55-4d97-cac2-738c6db28d51"
      },
      "outputs": [
        {
          "output_type": "stream",
          "name": "stdout",
          "text": [
            "10\n",
            "<class 'int'>\n",
            "3\n",
            "<class 'int'>\n",
            "42\n",
            "<class 'str'>\n",
            "True\n",
            "<class 'str'>\n"
          ]
        }
      ],
      "source": [
        "# Converting a string to an integer\n",
        "x = \"10\"\n",
        "y = int(x)\n",
        "print(y)  # Output: 10\n",
        "print(type(y))\n",
        "\n",
        "# Converting a float to an integer\n",
        "x = 3.14\n",
        "y = int(x)\n",
        "print(y)  # Output: 3\n",
        "print(type(y))\n",
        "\n",
        "# Converting an integer to a string\n",
        "x = 42\n",
        "y = str(x)\n",
        "print(y)  # Output: \"42\"\n",
        "print(type(y))\n",
        "\n",
        "# Converting a boolean to a string\n",
        "x = True\n",
        "y = str(x)\n",
        "print(y)\n",
        "print(type(y))\n"
      ]
    }
  ]
}