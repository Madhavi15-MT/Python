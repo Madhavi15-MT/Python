{
  "nbformat": 4,
  "nbformat_minor": 0,
  "metadata": {
    "colab": {
      "provenance": [],
      "authorship_tag": "ABX9TyONR4aN4iMv6+zIamOYL75x",
      "include_colab_link": true
    },
    "kernelspec": {
      "name": "python3",
      "display_name": "Python 3"
    },
    "language_info": {
      "name": "python"
    }
  },
  "cells": [
    {
      "cell_type": "markdown",
      "metadata": {
        "id": "view-in-github",
        "colab_type": "text"
      },
      "source": [
        "<a href=\"https://colab.research.google.com/github/Madhavi15-MT/Python/blob/main/A_Theory.ipynb\" target=\"_parent\"><img src=\"https://colab.research.google.com/assets/colab-badge.svg\" alt=\"Open In Colab\"/></a>"
      ]
    },
    {
      "cell_type": "markdown",
      "source": [
        "#What is Python? What are its key features?"
      ],
      "metadata": {
        "id": "ZF9SNmq4DRY9"
      }
    },
    {
      "cell_type": "markdown",
      "source": [
        "Python is a high-level, interpreted language known for its clear syntax, support for multiple programming paradigms (procedural, OOP, functional), dynamic typing, a vast standard library, and automatic memory management. Its simplicity and readability make rapid development easy."
      ],
      "metadata": {
        "id": "-Ra47HDwDT7j"
      }
    },
    {
      "cell_type": "markdown",
      "source": [
        "#List vs Tuples"
      ],
      "metadata": {
        "id": "pF517FvBDXhj"
      }
    },
    {
      "cell_type": "markdown",
      "source": [
        "Lists are mutable (can change size/content), tuples are immutable. Lists use more memory and are slower but flexible; tuples are lightweight and fast, suitable for constant data"
      ],
      "metadata": {
        "id": "2JdiReK2Dmst"
      }
    },
    {
      "cell_type": "markdown",
      "source": [
        "#Built - in Data Types"
      ],
      "metadata": {
        "id": "s3_w7A1LDxHB"
      }
    },
    {
      "cell_type": "markdown",
      "source": [
        "Numeric (int, float, complex), Boolean (bool), Sequence (list, tuple, range, str), Mapping (dict), Set (set, frozenset), and Binary (bytes, bytearray, memoryview)"
      ],
      "metadata": {
        "id": "N_pKWH3DDqyt"
      }
    },
    {
      "cell_type": "markdown",
      "source": [
        "#is vs =="
      ],
      "metadata": {
        "id": "2ZFnh23AD5bz"
      }
    },
    {
      "cell_type": "markdown",
      "source": [
        "'==' compares values for equality, while 'is' checks if both operands refer to the exact same object in memory.\n",
        "\n"
      ],
      "metadata": {
        "id": "LPAHlovmD1eV"
      }
    },
    {
      "cell_type": "markdown",
      "source": [
        "#Remove duplicates from List\n"
      ],
      "metadata": {
        "id": "jloK8UQ3ECl9"
      }
    },
    {
      "cell_type": "code",
      "source": [
        "list1 = [1,1,2,3,4,4,5,5,5]\n",
        "duplicates_list = list(set(list1))\n",
        "print(duplicates_list)"
      ],
      "metadata": {
        "colab": {
          "base_uri": "https://localhost:8080/"
        },
        "id": "dccZJh0pEIbz",
        "outputId": "af052d3a-c81b-48af-e347-76da8e7d9886"
      },
      "execution_count": null,
      "outputs": [
        {
          "output_type": "stream",
          "name": "stdout",
          "text": [
            "[1, 2, 3, 4, 5]\n"
          ]
        }
      ]
    },
    {
      "cell_type": "markdown",
      "source": [
        "#Self"
      ],
      "metadata": {
        "id": "kywtME9GEc65"
      }
    },
    {
      "cell_type": "markdown",
      "source": [
        "'self' represents the instance inside class methods, allowing access to attributes."
      ],
      "metadata": {
        "id": "u7ye40zjEn0R"
      }
    },
    {
      "cell_type": "markdown",
      "source": [
        "#What are decorators? Use case?\n"
      ],
      "metadata": {
        "id": "mVb6_BsrEy1z"
      }
    },
    {
      "cell_type": "markdown",
      "source": [
        "Functions that modify behaviors of functions/methods, often used for logging, access control, and caching"
      ],
      "metadata": {
        "id": "yUxvObrEE1Y8"
      }
    },
    {
      "cell_type": "markdown",
      "source": [
        "#Module vs Package"
      ],
      "metadata": {
        "id": "MEuXPAORE5Bi"
      }
    },
    {
      "cell_type": "markdown",
      "source": [
        "A module is like one standalone tool or a single document with code...\n",
        "Ex: math.py, random.py\n",
        "A package is like is like a toolbox or folder containing multiple related tools (modules) grouped together.\n",
        "ex: numpy, pandas"
      ],
      "metadata": {
        "id": "SMle1cDAoof6"
      }
    },
    {
      "cell_type": "markdown",
      "source": [
        "# **Args and **Kwargs"
      ],
      "metadata": {
        "id": "lDypCGNUpxDT"
      }
    },
    {
      "cell_type": "markdown",
      "source": [
        "Args: Values passed to a function in a specific order (positional)...\n",
        "Ex: def add(x,y):\n",
        "        return x + y\n",
        "    add(2,3)\n",
        "her 2,3 are the postional arguments, where the order is fixed\n",
        "\n",
        "\n",
        "Kwargs: Values passed with parameter names (key=value) - often handled as a Dictionaries...\n",
        "def add(x, y):\n",
        "    return x + y\n",
        "add(x = 10, y = 20)"
      ],
      "metadata": {
        "id": "ZdP4CbjQp157"
      }
    },
    {
      "cell_type": "markdown",
      "source": [
        "#Selenium vs Playwright\n"
      ],
      "metadata": {
        "id": "jBi9wCHfu13q"
      }
    },
    {
      "cell_type": "markdown",
      "source": [],
      "metadata": {
        "id": "zI3Xd6dcu22A"
      }
    }
  ]
}