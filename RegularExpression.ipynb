{
  "nbformat": 4,
  "nbformat_minor": 0,
  "metadata": {
    "colab": {
      "provenance": [],
      "authorship_tag": "ABX9TyM7SIl9dHR6qcaTAQ6+gzI8",
      "include_colab_link": true
    },
    "kernelspec": {
      "name": "python3",
      "display_name": "Python 3"
    },
    "language_info": {
      "name": "python"
    }
  },
  "cells": [
    {
      "cell_type": "markdown",
      "metadata": {
        "id": "view-in-github",
        "colab_type": "text"
      },
      "source": [
        "<a href=\"https://colab.research.google.com/github/Madhavi15-MT/Python/blob/main/RegularExpression.ipynb\" target=\"_parent\"><img src=\"https://colab.research.google.com/assets/colab-badge.svg\" alt=\"Open In Colab\"/></a>"
      ]
    },
    {
      "cell_type": "code",
      "execution_count": 3,
      "metadata": {
        "colab": {
          "base_uri": "https://localhost:8080/"
        },
        "id": "TZYzXL5bfX4K",
        "outputId": "d90c3378-cebf-4f17-8fdd-0e6a0cb74dba"
      },
      "outputs": [
        {
          "output_type": "stream",
          "name": "stdout",
          "text": [
            "Digits Found:  ['1', '2', '3', '4']\n",
            "Special Characters Found:  ['@']\n"
          ]
        }
      ],
      "source": [
        "import re\n",
        "\n",
        "text = \"Hello@1234\"\n",
        "\n",
        "digits = re.findall(r'\\d', text)\n",
        "print(\"Digits Found: \", digits)\n",
        "\n",
        "special_char = re.findall(r'\\W', text)\n",
        "print(\"Special Characters Found: \", special_char)"
      ]
    },
    {
      "cell_type": "code",
      "source": [
        "import re\n",
        "\n",
        "text = \"Hello@123!\"\n",
        "\n",
        "# Find integers\n",
        "digits = re.findall(r'\\d', text)\n",
        "print(\"Digits found:\", digits)\n",
        "\n",
        "# Find special characters\n",
        "special_chars = re.findall(r'\\W', text)\n",
        "print(\"Special Characters found:\", special_chars)\n"
      ],
      "metadata": {
        "colab": {
          "base_uri": "https://localhost:8080/"
        },
        "id": "W0Z-ahxdf6UR",
        "outputId": "a44ed122-2fd7-4b55-b1b3-92d55e96849d"
      },
      "execution_count": 2,
      "outputs": [
        {
          "output_type": "stream",
          "name": "stdout",
          "text": [
            "Digits found: ['1', '2', '3']\n",
            "Special Characters found: ['@', '!']\n"
          ]
        }
      ]
    }
  ]
}