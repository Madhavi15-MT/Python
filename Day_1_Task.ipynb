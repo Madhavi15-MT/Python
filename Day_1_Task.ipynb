{
  "nbformat": 4,
  "nbformat_minor": 0,
  "metadata": {
    "colab": {
      "provenance": [],
      "authorship_tag": "ABX9TyPkC8LyqdLT7z0Ub5GnRGW7",
      "include_colab_link": true
    },
    "kernelspec": {
      "name": "python3",
      "display_name": "Python 3"
    },
    "language_info": {
      "name": "python"
    }
  },
  "cells": [
    {
      "cell_type": "markdown",
      "metadata": {
        "id": "view-in-github",
        "colab_type": "text"
      },
      "source": [
        "<a href=\"https://colab.research.google.com/github/Madhavi15-MT/Python/blob/main/Day_1_Task.ipynb\" target=\"_parent\"><img src=\"https://colab.research.google.com/assets/colab-badge.svg\" alt=\"Open In Colab\"/></a>"
      ]
    },
    {
      "cell_type": "code",
      "execution_count": null,
      "metadata": {
        "id": "YSt-6DMnpcER"
      },
      "outputs": [],
      "source": [
        "# Assignment\n",
        "# At the start of the day you have a checklist. The tasks which you were able to finish should get added to completed_tasks.\n",
        "#The tasks which you were not able to finish should get added to incomplete_tasks.\n",
        "\n",
        "# This project is about organizing your daily tasks into two categories: completed tasks and incomplete tasks. Here’s how it works:\n",
        "\n",
        "# At the start of the day, you create a checklist of tasks you want to accomplish.\n",
        "\n",
        "# At the end of the day, you review which tasks you could finish and which you couldn’t.\n",
        "\n",
        "# If a task is finished, you move it to the completed tasks list.\n",
        "\n",
        "# If a task is not finished, you move it to the incomplete tasks list.\n",
        "\n",
        "# This way, by the end of each day, you’ll have a clear overview of what you completed and what still needs attention."
      ]
    },
    {
      "cell_type": "code",
      "source": [
        "check_list = [\n",
        "    \"Python Code\",\n",
        "    \"Interview Crack\",\n",
        "    \"Selected in Deloitte\",\n",
        "    \"Good Package\",\n",
        "    \"Focus to achieve these\"\n",
        "]\n",
        "completed_tasks = []\n",
        "incompleted_tasks = []\n",
        "\n",
        "finished = [\"Python Code\", \"Focus to achieve these\", \"Good Package\"]\n",
        "\n",
        "for task in check_list:\n",
        "  if task in finished:\n",
        "    completed_tasks.append(task)\n",
        "  else:\n",
        "    incompleted_tasks.append(task)\n",
        "\n",
        "print(completed_tasks)\n",
        "print(incompleted_tasks)\n",
        "\n",
        "\n"
      ],
      "metadata": {
        "colab": {
          "base_uri": "https://localhost:8080/"
        },
        "id": "7qGk_3eophIL",
        "outputId": "b1cf63a8-9922-466e-c690-4cc481c947d1"
      },
      "execution_count": 3,
      "outputs": [
        {
          "output_type": "stream",
          "name": "stdout",
          "text": [
            "['Python Code', 'Good Package', 'Focus to achieve these']\n",
            "['Interview Crack', 'Selected in Deloitte']\n"
          ]
        }
      ]
    }
  ]
}