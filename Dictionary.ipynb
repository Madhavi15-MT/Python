{
  "nbformat": 4,
  "nbformat_minor": 0,
  "metadata": {
    "colab": {
      "provenance": [],
      "authorship_tag": "ABX9TyO35Cgjab3ROLLIBip/Nlwl",
      "include_colab_link": true
    },
    "kernelspec": {
      "name": "python3",
      "display_name": "Python 3"
    },
    "language_info": {
      "name": "python"
    }
  },
  "cells": [
    {
      "cell_type": "markdown",
      "metadata": {
        "id": "view-in-github",
        "colab_type": "text"
      },
      "source": [
        "<a href=\"https://colab.research.google.com/github/Madhavi15-MT/Python/blob/main/Dictionary.ipynb\" target=\"_parent\"><img src=\"https://colab.research.google.com/assets/colab-badge.svg\" alt=\"Open In Colab\"/></a>"
      ]
    },
    {
      "cell_type": "code",
      "execution_count": 3,
      "metadata": {
        "id": "EG9cnv8Fzodq"
      },
      "outputs": [],
      "source": [
        "student = {\n",
        "    \"name\" : \"Madhu\",\n",
        "    \"age\" : 30,\n",
        "    \"Company\" : \"xyz\",\n",
        "    \"salary\" : 20000,\n",
        "    \"transport\" : \"metro\"\n",
        "           }"
      ]
    },
    {
      "cell_type": "code",
      "source": [
        "print(student)"
      ],
      "metadata": {
        "colab": {
          "base_uri": "https://localhost:8080/"
        },
        "id": "QonpWM740FUh",
        "outputId": "cc5e112d-caab-4815-e0a6-2e3fa272b263"
      },
      "execution_count": 4,
      "outputs": [
        {
          "output_type": "stream",
          "name": "stdout",
          "text": [
            "{'name': 'Madhu', 'age': 30, 'Company': 'xyz', 'salary': 20000, 'transport': 'metro'}\n"
          ]
        }
      ]
    },
    {
      "cell_type": "code",
      "source": [
        "student['name']"
      ],
      "metadata": {
        "colab": {
          "base_uri": "https://localhost:8080/",
          "height": 35
        },
        "id": "0u0iyg5r0IpW",
        "outputId": "48c4cc73-3292-4a43-94e2-d453c69c049f"
      },
      "execution_count": 5,
      "outputs": [
        {
          "output_type": "execute_result",
          "data": {
            "text/plain": [
              "'Madhu'"
            ],
            "application/vnd.google.colaboratory.intrinsic+json": {
              "type": "string"
            }
          },
          "metadata": {},
          "execution_count": 5
        }
      ]
    },
    {
      "cell_type": "code",
      "source": [
        "keys = ['a', 'b', 'c']\n",
        "values = [1, 2, 3]\n",
        "new_dict = dict(zip(keys, values))\n",
        "print(new_dict)"
      ],
      "metadata": {
        "colab": {
          "base_uri": "https://localhost:8080/"
        },
        "id": "eHK5nc6j2O3X",
        "outputId": "034088f7-4dd7-4dad-de5a-f1e0fb4cdd47"
      },
      "execution_count": 7,
      "outputs": [
        {
          "output_type": "stream",
          "name": "stdout",
          "text": [
            "{'a': 1, 'b': 2, 'c': 3}\n"
          ]
        }
      ]
    },
    {
      "cell_type": "code",
      "source": [
        "print(student.items())"
      ],
      "metadata": {
        "colab": {
          "base_uri": "https://localhost:8080/"
        },
        "id": "ttPBkR1i2TrO",
        "outputId": "dd03c2ac-c036-4da6-b30b-3d06384f2008"
      },
      "execution_count": 8,
      "outputs": [
        {
          "output_type": "stream",
          "name": "stdout",
          "text": [
            "dict_items([('name', 'Madhu'), ('age', 30), ('Company', 'xyz'), ('salary', 20000), ('transport', 'metro')])\n"
          ]
        }
      ]
    },
    {
      "cell_type": "code",
      "source": [
        "student.items()"
      ],
      "metadata": {
        "colab": {
          "base_uri": "https://localhost:8080/"
        },
        "id": "_2wVHloP20NF",
        "outputId": "1a39320d-5561-4433-cca8-d590255beb70"
      },
      "execution_count": 9,
      "outputs": [
        {
          "output_type": "execute_result",
          "data": {
            "text/plain": [
              "dict_items([('name', 'Madhu'), ('age', 30), ('Company', 'xyz'), ('salary', 20000), ('transport', 'metro')])"
            ]
          },
          "metadata": {},
          "execution_count": 9
        }
      ]
    },
    {
      "cell_type": "markdown",
      "source": [
        "How do you create a dictionary where the keys are numbers from 1 to 5 and the values are their squares? Use dictionary comprehension."
      ],
      "metadata": {
        "id": "IimW4RIj3pZv"
      }
    },
    {
      "cell_type": "code",
      "source": [
        "new_dict1 = {i: i**2 for i in range (1,6)}\n",
        "print(new_dict1)"
      ],
      "metadata": {
        "colab": {
          "base_uri": "https://localhost:8080/"
        },
        "id": "XokcnBVT3rQj",
        "outputId": "77622c9c-e90b-47d7-9cd9-95b91240e7a4"
      },
      "execution_count": 12,
      "outputs": [
        {
          "output_type": "stream",
          "name": "stdout",
          "text": [
            "{1: 1, 2: 4, 3: 9, 4: 16, 5: 25}\n"
          ]
        }
      ]
    },
    {
      "cell_type": "code",
      "source": [
        "scores = {'Alice': 88, 'Bob': 95, 'Charlie': 78}\n",
        "sorted_scores = dict(sorted(scores.items(), key=lambda x: x[1]))\n",
        "print(sorted_scores)"
      ],
      "metadata": {
        "colab": {
          "base_uri": "https://localhost:8080/"
        },
        "id": "iAPKAjH-36sp",
        "outputId": "51308036-067d-46ba-a647-453c5d1320ca"
      },
      "execution_count": 18,
      "outputs": [
        {
          "output_type": "stream",
          "name": "stdout",
          "text": [
            "{'Charlie': 78, 'Alice': 88, 'Bob': 95}\n"
          ]
        }
      ]
    },
    {
      "cell_type": "code",
      "source": [],
      "metadata": {
        "id": "dgKs4lkh4hx1"
      },
      "execution_count": null,
      "outputs": []
    }
  ]
}