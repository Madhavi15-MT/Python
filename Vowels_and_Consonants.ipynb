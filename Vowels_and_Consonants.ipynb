{
  "nbformat": 4,
  "nbformat_minor": 0,
  "metadata": {
    "colab": {
      "provenance": [],
      "authorship_tag": "ABX9TyNQNlQvsMs7Hc9foYDO0WP/",
      "include_colab_link": true
    },
    "kernelspec": {
      "name": "python3",
      "display_name": "Python 3"
    },
    "language_info": {
      "name": "python"
    }
  },
  "cells": [
    {
      "cell_type": "markdown",
      "metadata": {
        "id": "view-in-github",
        "colab_type": "text"
      },
      "source": [
        "<a href=\"https://colab.research.google.com/github/Madhavi15-MT/Python/blob/main/Vowels_and_Consonants.ipynb\" target=\"_parent\"><img src=\"https://colab.research.google.com/assets/colab-badge.svg\" alt=\"Open In Colab\"/></a>"
      ]
    },
    {
      "cell_type": "code",
      "execution_count": 10,
      "metadata": {
        "colab": {
          "base_uri": "https://localhost:8080/"
        },
        "id": "g5EhOh3Ck_R0",
        "outputId": "1d9a9a3e-ba12-4084-d353-3452bbbc36e3"
      },
      "outputs": [
        {
          "output_type": "stream",
          "name": "stdout",
          "text": [
            "Number of vowels: 3\n",
            "Number of consonants: 7\n"
          ]
        }
      ],
      "source": [
        "str1 = \"Hello World\"\n",
        "vowels = 'aeiouAEIOU'\n",
        "only_vowels = []\n",
        "only_consonants = []\n",
        "for char in str1:\n",
        "  if char in vowels:\n",
        "    only_vowels.append(char)\n",
        "  elif char not in vowels and char != \" \":\n",
        "    only_consonants.append(char)\n",
        "\n",
        "print(\"Number of vowels:\", len(only_vowels))\n",
        "print(\"Number of consonants:\", len(only_consonants))"
      ]
    }
  ]
}