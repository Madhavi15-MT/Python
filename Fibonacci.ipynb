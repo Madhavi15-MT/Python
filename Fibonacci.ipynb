{
  "nbformat": 4,
  "nbformat_minor": 0,
  "metadata": {
    "colab": {
      "provenance": [],
      "authorship_tag": "ABX9TyOdQ8+QaOVHsCWd9ztANah/",
      "include_colab_link": true
    },
    "kernelspec": {
      "name": "python3",
      "display_name": "Python 3"
    },
    "language_info": {
      "name": "python"
    }
  },
  "cells": [
    {
      "cell_type": "markdown",
      "metadata": {
        "id": "view-in-github",
        "colab_type": "text"
      },
      "source": [
        "<a href=\"https://colab.research.google.com/github/Madhavi15-MT/Python/blob/main/Fibonacci.ipynb\" target=\"_parent\"><img src=\"https://colab.research.google.com/assets/colab-badge.svg\" alt=\"Open In Colab\"/></a>"
      ]
    },
    {
      "cell_type": "markdown",
      "source": [
        "Write a program to display the Fibonacci sequence in Python?"
      ],
      "metadata": {
        "id": "99rbtSyG8UDH"
      }
    },
    {
      "cell_type": "code",
      "execution_count": 3,
      "metadata": {
        "colab": {
          "base_uri": "https://localhost:8080/"
        },
        "id": "oLwhbGJ-6HtV",
        "outputId": "bec4254c-d6e0-4bbc-ef57-6353372760d8"
      },
      "outputs": [
        {
          "output_type": "stream",
          "name": "stdout",
          "text": [
            "Enter a number to find the Fibonacci sequence: 5\n",
            "Fibonacci sequence:\n",
            "0 1 1 2 3 "
          ]
        }
      ],
      "source": [
        "n = int(input(\"Enter a number to find the Fibonacci sequence: \"))\n",
        "\n",
        "a,b = 0,1\n",
        "\n",
        "print(\"Fibonacci sequence:\")\n",
        "for _ in range(n):\n",
        "  print(a, end = ' ')\n",
        "  a, b = b, a + b"
      ]
    }
  ]
}