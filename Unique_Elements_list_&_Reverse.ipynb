{
  "nbformat": 4,
  "nbformat_minor": 0,
  "metadata": {
    "colab": {
      "provenance": [],
      "authorship_tag": "ABX9TyPWMqLXC2ZSh/928/d/GG7P",
      "include_colab_link": true
    },
    "kernelspec": {
      "name": "python3",
      "display_name": "Python 3"
    },
    "language_info": {
      "name": "python"
    }
  },
  "cells": [
    {
      "cell_type": "markdown",
      "metadata": {
        "id": "view-in-github",
        "colab_type": "text"
      },
      "source": [
        "<a href=\"https://colab.research.google.com/github/Madhavi15-MT/Python/blob/main/Unique_Elements_list_%26_Reverse.ipynb\" target=\"_parent\"><img src=\"https://colab.research.google.com/assets/colab-badge.svg\" alt=\"Open In Colab\"/></a>"
      ]
    },
    {
      "cell_type": "markdown",
      "source": [
        "Write a Python program to find the unique elements in a list."
      ],
      "metadata": {
        "id": "LK5ThIGD-B_D"
      }
    },
    {
      "cell_type": "code",
      "execution_count": 17,
      "metadata": {
        "colab": {
          "base_uri": "https://localhost:8080/"
        },
        "id": "xeOjowd70agv",
        "outputId": "194ab8cf-2a09-49a5-d2f8-0d4c5a044d91"
      },
      "outputs": [
        {
          "output_type": "stream",
          "name": "stdout",
          "text": [
            "[1, 2, 3, 4, 5, 6, 7]\n"
          ]
        }
      ],
      "source": [
        "l1 = [1,2,2,3,4,5,5,6,5,7]\n",
        "l2 = []\n",
        "for x in l1:\n",
        "  if x not in l2:\n",
        "    l2.append(x)\n",
        "print(l2)"
      ]
    },
    {
      "cell_type": "code",
      "source": [
        "def reverse_string(s):\n",
        "    \"\"\"Simple function to reverse a string\"\"\"\n",
        "    result = \"\"\n",
        "\n",
        "    # Go through each character from the end to the beginning\n",
        "    for i in range(len(s) - 1, -1, -1):\n",
        "        result = result + s[i]\n",
        "\n",
        "    return result\n",
        "\n",
        "# Test it\n",
        "text = \"hello\"\n",
        "reversed_text = reverse_string(text)\n",
        "\n",
        "print(f\"Original: {text}\")\n",
        "print(f\"Reversed: {reversed_text}\")\n"
      ],
      "metadata": {
        "colab": {
          "base_uri": "https://localhost:8080/"
        },
        "id": "PBdghZZt-Dkf",
        "outputId": "2d0242de-b615-4740-d994-1e7af63d7860"
      },
      "execution_count": 19,
      "outputs": [
        {
          "output_type": "stream",
          "name": "stdout",
          "text": [
            "Original: hello\n",
            "Reversed: olleh\n"
          ]
        }
      ]
    },
    {
      "cell_type": "code",
      "source": [
        "\n",
        "# Try with your own text\n",
        "your_text = input(\"\\nEnter any text: \")\n",
        "print(f\"Your text reversed: {reverse_string(your_text)}\")"
      ],
      "metadata": {
        "colab": {
          "base_uri": "https://localhost:8080/"
        },
        "id": "vf3QiKS1_zU3",
        "outputId": "03be6cc6-4330-4355-fff8-c643a2ee1ee4"
      },
      "execution_count": 20,
      "outputs": [
        {
          "output_type": "stream",
          "name": "stdout",
          "text": [
            "\n",
            "Enter any text: Hello\n",
            "Your text reversed: olleH\n"
          ]
        }
      ]
    },
    {
      "cell_type": "code",
      "source": [
        "s = \"Hello\"\n",
        "x = s[::-1]\n",
        "print(x)"
      ],
      "metadata": {
        "colab": {
          "base_uri": "https://localhost:8080/"
        },
        "id": "pSp0JdTz_2in",
        "outputId": "f84b381c-b716-4fa2-a1fd-734a1a3775c9"
      },
      "execution_count": 21,
      "outputs": [
        {
          "output_type": "stream",
          "name": "stdout",
          "text": [
            "olleH\n"
          ]
        }
      ]
    }
  ]
}