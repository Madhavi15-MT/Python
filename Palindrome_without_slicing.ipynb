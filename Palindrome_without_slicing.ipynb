{
  "nbformat": 4,
  "nbformat_minor": 0,
  "metadata": {
    "colab": {
      "provenance": [],
      "authorship_tag": "ABX9TyOWQiXhBt6T+aAt70f07vbp",
      "include_colab_link": true
    },
    "kernelspec": {
      "name": "python3",
      "display_name": "Python 3"
    },
    "language_info": {
      "name": "python"
    }
  },
  "cells": [
    {
      "cell_type": "markdown",
      "metadata": {
        "id": "view-in-github",
        "colab_type": "text"
      },
      "source": [
        "<a href=\"https://colab.research.google.com/github/Madhavi15-MT/Python/blob/main/Palindrome_without_slicing.ipynb\" target=\"_parent\"><img src=\"https://colab.research.google.com/assets/colab-badge.svg\" alt=\"Open In Colab\"/></a>"
      ]
    },
    {
      "cell_type": "code",
      "execution_count": 3,
      "metadata": {
        "colab": {
          "base_uri": "https://localhost:8080/"
        },
        "id": "Bk1qbnfTCVN2",
        "outputId": "9dc93e5d-9528-4a93-ae7a-2a3a241f1eaf"
      },
      "outputs": [
        {
          "output_type": "stream",
          "name": "stdout",
          "text": [
            "True\n",
            "False\n"
          ]
        }
      ],
      "source": [
        "def is_palindrome(s):\n",
        "\n",
        "    s = ''.join(char for char in s if char.isalnum()).lower()\n",
        "    return s == s[::-1]\n",
        "\n",
        "\n",
        "print(is_palindrome(\"A man, a plan, a canal: Panama\")) # Output: True\n",
        "print(is_palindrome(\"hello\")) # Output: False"
      ]
    }
  ]
}